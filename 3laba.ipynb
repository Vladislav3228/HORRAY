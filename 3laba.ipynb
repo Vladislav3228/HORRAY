{
  "nbformat": 4,
  "nbformat_minor": 0,
  "metadata": {
    "colab": {
      "name": "3laba",
      "provenance": [],
      "collapsed_sections": [],
      "include_colab_link": true
    },
    "kernelspec": {
      "display_name": "Python 3",
      "name": "python3"
    }
  },
  "cells": [
    {
      "cell_type": "markdown",
      "metadata": {
        "id": "view-in-github",
        "colab_type": "text"
      },
      "source": [
        "<a href=\"https://colab.research.google.com/github/Vladislav3228/HORRAY/blob/master/3laba.ipynb\" target=\"_parent\"><img src=\"https://colab.research.google.com/assets/colab-badge.svg\" alt=\"Open In Colab\"/></a>"
      ]
    },
    {
      "cell_type": "code",
      "metadata": {
        "colab_type": "code",
        "id": "C4HZx7Gndbrh",
        "colab": {
          "base_uri": "https://localhost:8080/",
          "height": 130
        },
        "outputId": "8e2a9cc9-b92d-483e-b49a-7471a0c2c8f7"
      },
      "source": [
        "print('ti')\n",
        "import numpy as np\n"
        "import matplotlib.pyplot as plt\n"
        "import pandas as pd\n"
        "url = 'https://archive.ics.uci.edu/ml/machine-learning-databases/iris/iris.data'\n"
        "names = ['sepal-length', 'sepal-width', 'petal-length', 'petal-width', 'Class']\n"
        "dataset = pd.read_csv(url, names=names)\n"
        "dataset.head()\n"
        "X = dataset.iloc[:, :-1].values\n"
        "y = dataset.iloc[:, 4].values\n"
        "from sklearn.model_selection import train_test_split\n"
        "X_train, X_test, y_train, y_test = train_test_split(X, y, test_size=0.20)\n"
        "from sklearn.neighbors import KNeighborsClassifier\n"
        "classifier = KNeighborsClassifier(n_neighbors=5)\n"
        "classifier.fit(X_train, y_train)\n"
        "y_pred = classifier.predict(X_test)\n"
        "from sklearn.metrics import classification_report, confusion_matrix\n"
        "print(confusion_matrix(y_test, y_pred))\n"
        "print(classification_report(y_test, y_pred))\n"
        "error = []\n"
        "for i in range(1, 40):\n"
        "    knn = KNeighborsClassifier(n_neighbors=i)\n"
        "    knn.fit(X_train, y_train)\n"
        "    pred_i = knn.predict(X_test)\n"
        "    error.append(np.mean(pred_i != y_test))\n"
        "plt.figure(figsize=(12, 6))\n"
        "plt.plot(range(1, 40), error, color='red', linestyle='dashed', marker='o', markerfacecolor='blue', markersize=10)\n"
        "plt.title('Error Rate K Value')\n"
        "plt.xlabel('K Value')\n"
        "plt.ylabel('Mean Error')\n"
        "​  ​"​
      ],
      "execution_count": 0,
      "outputs": [
        {
          "output_type": "error",
          "ename": "SyntaxError",
          "evalue": "ignored",
          "traceback": [
            "\u001b[0;36m  File \u001b[0;32m\"<ipython-input-1-09bdc041eecb>\"\u001b[0;36m, line \u001b[0;32m6\u001b[0m\n\u001b[0;31m    dndnxjcjsjs():\u001b[0m\n\u001b[0m                  ^\u001b[0m\n\u001b[0;31mSyntaxError\u001b[0m\u001b[0;31m:\u001b[0m invalid syntax\n"
          ]
        }
      ]
    }
  ]
}
